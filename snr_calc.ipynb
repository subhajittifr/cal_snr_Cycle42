{
 "cells": [
  {
   "cell_type": "code",
   "execution_count": 1,
   "id": "83f8725c",
   "metadata": {},
   "outputs": [],
   "source": [
    "import numpy as np\n",
    "import matplotlib.pyplot as plt\n",
    "from TSKY import *\n",
    "from g_by_Tsys import *"
   ]
  },
  {
   "cell_type": "code",
   "execution_count": 2,
   "id": "25f8b636",
   "metadata": {},
   "outputs": [],
   "source": [
    "data=np.loadtxt('samples.txt',dtype='object')"
   ]
  },
  {
   "cell_type": "code",
   "execution_count": 3,
   "id": "1a997db7",
   "metadata": {},
   "outputs": [],
   "source": [
    "PSR = data[:,1]\n",
    "S_400 = data[:,2]\n",
    "S_1400 = data[:,3]\n",
    "period = data[:,4].astype('float')\n",
    "width = data[:,5]\n",
    "Gl = data[:,6]\n",
    "Gb = data[:,7]\n",
    "BW = data[:,8].astype('float')\n",
    "N_channel_B3 = data[:,9].astype('float')\n",
    "N_channel_B5 = data[:,10].astype('float')\n",
    "DM = data[:,11].astype('float')\n",
    "T_obs=data[:,12].astype('float')\n",
    "data_b3 = np.loadtxt('band3.par')\n",
    "data_b5 = np.loadtxt('band5.par')\n",
    "n_chan=1024"
   ]
  },
  {
   "cell_type": "code",
   "execution_count": 4,
   "id": "3cbd4735",
   "metadata": {},
   "outputs": [],
   "source": [
    "tskylist = readtskyfile()"
   ]
  },
  {
   "cell_type": "code",
   "execution_count": 5,
   "id": "28de5155",
   "metadata": {},
   "outputs": [],
   "source": [
    "def ISM_WIDTH(N_channel, bandwidth, nu, DM_psr, width_in):\n",
    "    Chan_width = bandwidth/N_channel # in MHz\n",
    "    K_DM = 8.3*(10.0**6.0)\n",
    "    W_DM = K_DM*DM_psr*(Chan_width/(nu**3.0))\n",
    "    W_scatt = 10.0**(-6.46+0.154*np.log10(DM_psr) + 1.07*(np.log10(DM_psr))**2.0 -3.86*np.log10(nu/1000.0))\n",
    "    if width_in == '*':\n",
    "        effective_width = '*'\n",
    "    else:\n",
    "        effective_width = np.sqrt(W_DM**2.0 + float(width_in)**2.0 + W_scatt**2.0)\n",
    "\n",
    "    return effective_width"
   ]
  },
  {
   "cell_type": "code",
   "execution_count": 6,
   "id": "010c5147",
   "metadata": {},
   "outputs": [],
   "source": [
    "def SNR(bandwidth, Int_time,flux,period, width_in, nu, BAND, N_channel, T_sky, DM_psr):\n",
    "\n",
    "    width_eff = ISM_WIDTH(N_channel,bandwidth,nu,DM_psr,width_in)\n",
    "\n",
    "    if flux != '*' and width_eff !='*':\n",
    "        flux = flux*10**-3\n",
    "        width = float(width_eff)*10**-3 # conversting from ms to sec\n",
    "        N_pol = 2.0\n",
    "        Delta_nu = bandwidth*10**6.0 ## Converting MHz to Hz\n",
    "        Int_time = Int_time*60.0 ## converting it in seconds\n",
    "        if BAND =='BAND3':\n",
    "            N_PA = 10.0\n",
    "            #G_by_Tsys =0.32/(106.0+T_sky)\n",
    "            G_by_Tsys = g_by_t_sys(data_b3, nu)/(1.0 + T_sky/106.0)\n",
    "        if BAND == 'BAND5':\n",
    "            N_PA = 14.0\n",
    "            #G_by_Tsys = 0.22/(73.0+T_sky)\n",
    "            G_by_Tsys = g_by_t_sys(data_b5, nu)/(1.0 + T_sky/73.0)\n",
    "        SNR = (flux*N_PA)*G_by_Tsys*(np.sqrt(N_pol*Delta_nu*Int_time))*(np.sqrt((period-width)/width))\n",
    "\n",
    "    else:\n",
    "        SNR = 0.0\n",
    "\n",
    "    return SNR"
   ]
  },
  {
   "cell_type": "code",
   "execution_count": 7,
   "id": "e31df51b",
   "metadata": {},
   "outputs": [],
   "source": [
    "logical = np.logical_or(S_1400=='*', S_400=='*')\n",
    "logical_flux = np.logical_and(S_1400=='*', S_400=='*')"
   ]
  },
  {
   "cell_type": "code",
   "execution_count": 8,
   "id": "3cfac607",
   "metadata": {},
   "outputs": [],
   "source": [
    "Band3_T=[]\n",
    "Band5_T=[]\n",
    "T_sky_400_l= []\n",
    "T_sky_1360_l =[]"
   ]
  },
  {
   "cell_type": "code",
   "execution_count": 9,
   "id": "402a03e7",
   "metadata": {},
   "outputs": [
    {
     "name": "stderr",
     "output_type": "stream",
     "text": [
      "/tmp/ipykernel_1102235/454316610.py:19: RuntimeWarning: invalid value encountered in sqrt\n",
      "  SNR = (flux*N_PA)*G_by_Tsys*(np.sqrt(N_pol*Delta_nu*Int_time))*(np.sqrt((period-width)/width))\n"
     ]
    }
   ],
   "source": [
    "for i in range(len(PSR)):\n",
    "    #print (i)\n",
    "    if logical[i] == True:\n",
    "        #print ('LEV 1')\n",
    "        spectral_index = -1.6\n",
    "    if logical[i] == False:\n",
    "        #print ('LEV 2')\n",
    "        S_400_m = float(S_400[i])\n",
    "        S_1400_m = float(S_1400[i])\n",
    "        spectral_index =np.log(S_400_m/S_1400_m)/np.log(400.0/1400.0)\n",
    "    \n",
    "    if logical_flux[i] == True:\n",
    "        S_BAND5 ='*'\n",
    "        S_BAND3 ='*'\n",
    "    else:\n",
    "        if S_1400[i] != '*':\n",
    "            S_BAND5 = float(S_1400[i])*(1360.0/1400.0)**(spectral_index)\n",
    "            S_BAND3 = float(S_1400[i])*(400.0/1400.0)**(spectral_index)\n",
    "        if S_1400[i] == '*':\n",
    "            S_BAND5 = float(S_400[i])*(1360.0/400.0)**(spectral_index)\n",
    "            S_BAND3 = float(S_400[i])*(400.0/400.0)**(spectral_index)\n",
    "\n",
    "\n",
    "    if Gl[i] =='*' or Gb[i]=='*':\n",
    "            T_sky = 0.0\n",
    "    else:\n",
    "            T_sky_400 = tskypy(400.0, float(Gl[i]), float(Gb[i]), tskylist) ## Computing T_sky from Manjari Bagchi's code.\n",
    "\n",
    "            T_sky_1360 = tskypy(1360.0, float(Gl[i]), float(Gb[i]), tskylist) ## Computing T_sky from Manjari Bagchi's code.\n",
    "    \n",
    "\n",
    "    T_sky_400_l.append(T_sky_400)\n",
    "    T_sky_1360_l.append(T_sky_1360)\n",
    "    Band3_T.append(SNR(BW[i],T_obs[i],S_BAND3,period[i], width[i], 400.0, 'BAND3', n_chan, T_sky_400, DM[i]))\n",
    "    Band5_T.append(SNR(BW[i],T_obs[i],S_BAND5,period[i], width[i], 1360.0, 'BAND5', n_chan, T_sky_1360, DM[i]))\n",
    "    "
   ]
  },
  {
   "cell_type": "code",
   "execution_count": 10,
   "id": "e17b08f3",
   "metadata": {},
   "outputs": [],
   "source": [
    "\n",
    "array = np.array(list(zip(PSR,T_obs,Band3_T, Band5_T)), dtype=object)"
   ]
  },
  {
   "cell_type": "code",
   "execution_count": 11,
   "id": "44e441fd",
   "metadata": {},
   "outputs": [],
   "source": [
    "np.savetxt('snr_output.txt', array, delimiter='\\t', fmt=['%s', '%0.f','%4.2f', '%4.2f'],\n",
    "          header='#J-Name\\tobs_time(min)\\tS/N(B3)\\tS/N(B5))')"
   ]
  },
  {
   "cell_type": "code",
   "execution_count": 12,
   "id": "833717dd",
   "metadata": {},
   "outputs": [
    {
     "data": {
      "text/plain": [
       "array([['J0030+0451', '32', '581.95', '61.36'],\n",
       "       ['J0034-0534', '32', '842.83', '32.53'],\n",
       "       ['J0437-4715', '10', '52652.73', '19482.41'],\n",
       "       ['J0613-0200', '20', '258.52', '154.48'],\n",
       "       ['J0740+6620', '20', '1594.56', '108.41'],\n",
       "       ['J0751+1807', '20', '328.80', '183.89'],\n",
       "       ['J0900-3144', '20', '945.91', '315.49'],\n",
       "       ['J1012+5307', '15', '1301.51', '221.58'],\n",
       "       ['J1022+1001', '20', '6750.88', '588.17'],\n",
       "       ['J1125+7819', '20', '996.91', '97.74'],\n",
       "       ['J1600-3053', '30', '514.21', '512.74'],\n",
       "       ['J1643-1224', '25', '2069.05', '570.33'],\n",
       "       ['J1713+0747', '32', '424.15', '1987.53'],\n",
       "       ['J1730-2304', '27', '1702.66', '357.81'],\n",
       "       ['J1744-1134', '27', '1456.47', '561.05'],\n",
       "       ['J1857+0943', '32', '824.60', '425.53'],\n",
       "       ['J1909-3744', '32', '1340.31', '743.85'],\n",
       "       ['J1939+2134', '10', 'nan', '1550.67'],\n",
       "       ['J1944+0907', '30', '971.60', '238.26'],\n",
       "       ['J2124-3358', '30', '1266.95', '462.87'],\n",
       "       ['J2145-0750', '25', '6771.34', '2285.78'],\n",
       "       ['J2302+4442', '32', '889.81', '196.25']], dtype=object)"
      ]
     },
     "execution_count": 12,
     "metadata": {},
     "output_type": "execute_result"
    }
   ],
   "source": [
    "np.loadtxt('snr_output.txt',dtype=object)"
   ]
  }
 ],
 "metadata": {
  "kernelspec": {
   "display_name": "Python 3 (ipykernel)",
   "language": "python",
   "name": "python3"
  },
  "language_info": {
   "codemirror_mode": {
    "name": "ipython",
    "version": 3
   },
   "file_extension": ".py",
   "mimetype": "text/x-python",
   "name": "python",
   "nbconvert_exporter": "python",
   "pygments_lexer": "ipython3",
   "version": "3.9.13"
  }
 },
 "nbformat": 4,
 "nbformat_minor": 5
}
